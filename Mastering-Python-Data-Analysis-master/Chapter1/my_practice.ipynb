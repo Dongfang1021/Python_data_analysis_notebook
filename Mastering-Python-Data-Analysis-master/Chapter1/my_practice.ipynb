{
 "cells": [
  {
   "cell_type": "code",
   "execution_count": 1,
   "metadata": {},
   "outputs": [],
   "source": [
    "import matplotlib.pyplot as plt\n",
    "import numpy as np\n",
    "import pandas as pd"
   ]
  },
  {
   "cell_type": "code",
   "execution_count": 2,
   "metadata": {},
   "outputs": [
    {
     "data": {
      "text/plain": [
       "['seaborn-dark',\n",
       " 'seaborn-darkgrid',\n",
       " 'seaborn-ticks',\n",
       " 'fivethirtyeight',\n",
       " 'seaborn-whitegrid',\n",
       " 'classic',\n",
       " '_classic_test',\n",
       " 'fast',\n",
       " 'seaborn-talk',\n",
       " 'seaborn-dark-palette',\n",
       " 'seaborn-bright',\n",
       " 'seaborn-pastel',\n",
       " 'grayscale',\n",
       " 'seaborn-notebook',\n",
       " 'ggplot',\n",
       " 'seaborn-colorblind',\n",
       " 'seaborn-muted',\n",
       " 'seaborn',\n",
       " 'Solarize_Light2',\n",
       " 'seaborn-paper',\n",
       " 'bmh',\n",
       " 'tableau-colorblind10',\n",
       " 'seaborn-white',\n",
       " 'dark_background',\n",
       " 'seaborn-poster',\n",
       " 'seaborn-deep']"
      ]
     },
     "execution_count": 2,
     "metadata": {},
     "output_type": "execute_result"
    }
   ],
   "source": [
    "plt.style.available"
   ]
  },
  {
   "cell_type": "code",
   "execution_count": 3,
   "metadata": {},
   "outputs": [],
   "source": [
    "import os\n",
    "plt.style.use(os.path.join(os.getcwd(), 'mystyle.mplstyle'))"
   ]
  },
  {
   "cell_type": "code",
   "execution_count": 4,
   "metadata": {},
   "outputs": [
    {
     "name": "stderr",
     "output_type": "stream",
     "text": [
      "/Users/dongfanghu/miniconda3/envs/bioinfo/lib/python3.6/site-packages/ipykernel_launcher.py:2: ParserWarning: Falling back to the 'python' engine because the 'c' engine does not support regex separators (separators > 1 char and different from '\\s+' are interpreted as regex); you can avoid this warning by specifying engine='python'.\n",
      "  \n"
     ]
    }
   ],
   "source": [
    "cols = ['user id', 'item_id', 'rating', 'timestamp']\n",
    "ratings = pd.read_csv('data/ratings.dat', sep='::', index_col=False, names=cols, encoding=\"UTF-8\")"
   ]
  },
  {
   "cell_type": "code",
   "execution_count": 5,
   "metadata": {},
   "outputs": [
    {
     "data": {
      "text/html": [
       "<div>\n",
       "<style scoped>\n",
       "    .dataframe tbody tr th:only-of-type {\n",
       "        vertical-align: middle;\n",
       "    }\n",
       "\n",
       "    .dataframe tbody tr th {\n",
       "        vertical-align: top;\n",
       "    }\n",
       "\n",
       "    .dataframe thead th {\n",
       "        text-align: right;\n",
       "    }\n",
       "</style>\n",
       "<table border=\"1\" class=\"dataframe\">\n",
       "  <thead>\n",
       "    <tr style=\"text-align: right;\">\n",
       "      <th></th>\n",
       "      <th>user id</th>\n",
       "      <th>item_id</th>\n",
       "      <th>rating</th>\n",
       "      <th>timestamp</th>\n",
       "    </tr>\n",
       "  </thead>\n",
       "  <tbody>\n",
       "    <tr>\n",
       "      <th>0</th>\n",
       "      <td>1</td>\n",
       "      <td>1074638</td>\n",
       "      <td>7</td>\n",
       "      <td>1365029107</td>\n",
       "    </tr>\n",
       "    <tr>\n",
       "      <th>1</th>\n",
       "      <td>1</td>\n",
       "      <td>1853728</td>\n",
       "      <td>8</td>\n",
       "      <td>1366576639</td>\n",
       "    </tr>\n",
       "    <tr>\n",
       "      <th>2</th>\n",
       "      <td>2</td>\n",
       "      <td>104257</td>\n",
       "      <td>8</td>\n",
       "      <td>1364690142</td>\n",
       "    </tr>\n",
       "    <tr>\n",
       "      <th>3</th>\n",
       "      <td>2</td>\n",
       "      <td>1259521</td>\n",
       "      <td>8</td>\n",
       "      <td>1364118447</td>\n",
       "    </tr>\n",
       "    <tr>\n",
       "      <th>4</th>\n",
       "      <td>2</td>\n",
       "      <td>1991245</td>\n",
       "      <td>7</td>\n",
       "      <td>1364117717</td>\n",
       "    </tr>\n",
       "  </tbody>\n",
       "</table>\n",
       "</div>"
      ],
      "text/plain": [
       "   user id  item_id  rating   timestamp\n",
       "0        1  1074638       7  1365029107\n",
       "1        1  1853728       8  1366576639\n",
       "2        2   104257       8  1364690142\n",
       "3        2  1259521       8  1364118447\n",
       "4        2  1991245       7  1364117717"
      ]
     },
     "execution_count": 5,
     "metadata": {},
     "output_type": "execute_result"
    }
   ],
   "source": [
    "ratings.head()"
   ]
  },
  {
   "cell_type": "code",
   "execution_count": 6,
   "metadata": {},
   "outputs": [
    {
     "name": "stdout",
     "output_type": "stream",
     "text": [
      "8     12012\n",
      "7     11063\n",
      "9      7119\n",
      "6      6373\n",
      "10     6281\n",
      "5      3399\n",
      "4      1696\n",
      "3       924\n",
      "1       595\n",
      "2       533\n",
      "0         5\n",
      "Name: rating, dtype: int64\n"
     ]
    }
   ],
   "source": [
    "rating_counts = ratings['rating'].value_counts()\n",
    "print(rating_counts)"
   ]
  },
  {
   "cell_type": "code",
   "execution_count": 7,
   "metadata": {},
   "outputs": [
    {
     "name": "stdout",
     "output_type": "stream",
     "text": [
      "0         5\n",
      "1       595\n",
      "2       533\n",
      "3       924\n",
      "4      1696\n",
      "5      3399\n",
      "6      6373\n",
      "7     11063\n",
      "8     12012\n",
      "9      7119\n",
      "10     6281\n",
      "Name: rating, dtype: int64\n"
     ]
    }
   ],
   "source": [
    "sorted_counts = rating_counts.sort_index()\n",
    "print(sorted_counts)"
   ]
  },
  {
   "cell_type": "code",
   "execution_count": 8,
   "metadata": {},
   "outputs": [
    {
     "data": {
      "text/plain": [
       "Text(0,0.5,'Count')"
      ]
     },
     "execution_count": 8,
     "metadata": {},
     "output_type": "execute_result"
    },
    {
     "data": {
      "image/png": "[encoded data removed]",
      "text/plain": [
       "<Figure size 500x350 with 1 Axes>"
      ]
     },
     "metadata": {},
     "output_type": "display_data"
    }
   ],
   "source": [
    "sorted_counts.plot(kind='bar', color='SteelBlue')\n",
    "plt.title('Movie ratings')\n",
    "plt.xlabel('Rating')\n",
    "plt.ylabel('Count')"
   ]
  },
  {
   "cell_type": "code",
   "execution_count": 9,
   "metadata": {},
   "outputs": [
    {
     "name": "stderr",
     "output_type": "stream",
     "text": [
      "/Users/dongfanghu/miniconda3/envs/bioinfo/lib/python3.6/site-packages/ipykernel_launcher.py:2: ParserWarning: Falling back to the 'python' engine because the 'c' engine does not support regex separators (separators > 1 char and different from '\\s+' are interpreted as regex); you can avoid this warning by specifying engine='python'.\n",
      "  \n"
     ]
    }
   ],
   "source": [
    "cols = ['movie id', 'movie title', 'genre']\n",
    "movies = pd.read_csv('data/movies.dat', sep='::', index_col=False, names=cols, encoding=\"UTF-8\")"
   ]
  },
  {
   "cell_type": "code",
   "execution_count": 10,
   "metadata": {},
   "outputs": [
    {
     "data": {
      "text/html": [
       "<div>\n",
       "<style scoped>\n",
       "    .dataframe tbody tr th:only-of-type {\n",
       "        vertical-align: middle;\n",
       "    }\n",
       "\n",
       "    .dataframe tbody tr th {\n",
       "        vertical-align: top;\n",
       "    }\n",
       "\n",
       "    .dataframe thead th {\n",
       "        text-align: right;\n",
       "    }\n",
       "</style>\n",
       "<table border=\"1\" class=\"dataframe\">\n",
       "  <thead>\n",
       "    <tr style=\"text-align: right;\">\n",
       "      <th></th>\n",
       "      <th>movie id</th>\n",
       "      <th>movie title</th>\n",
       "      <th>genre</th>\n",
       "    </tr>\n",
       "  </thead>\n",
       "  <tbody>\n",
       "    <tr>\n",
       "      <th>0</th>\n",
       "      <td>2844</td>\n",
       "      <td>Fantômas - À l'ombre de la guillotine (1913)</td>\n",
       "      <td>Crime|Drama</td>\n",
       "    </tr>\n",
       "    <tr>\n",
       "      <th>1</th>\n",
       "      <td>4936</td>\n",
       "      <td>The Bank (1915)</td>\n",
       "      <td>Comedy|Short</td>\n",
       "    </tr>\n",
       "    <tr>\n",
       "      <th>2</th>\n",
       "      <td>7264</td>\n",
       "      <td>The Rink (1916)</td>\n",
       "      <td>Comedy|Short</td>\n",
       "    </tr>\n",
       "    <tr>\n",
       "      <th>3</th>\n",
       "      <td>8133</td>\n",
       "      <td>The Immigrant (1917)</td>\n",
       "      <td>Short|Comedy|Drama|Romance</td>\n",
       "    </tr>\n",
       "    <tr>\n",
       "      <th>4</th>\n",
       "      <td>9968</td>\n",
       "      <td>Broken Blossoms or The Yellow Man and the Girl...</td>\n",
       "      <td>Drama|Romance</td>\n",
       "    </tr>\n",
       "  </tbody>\n",
       "</table>\n",
       "</div>"
      ],
      "text/plain": [
       "   movie id                                        movie title  \\\n",
       "0      2844       Fantômas - À l'ombre de la guillotine (1913)   \n",
       "1      4936                                    The Bank (1915)   \n",
       "2      7264                                    The Rink (1916)   \n",
       "3      8133                               The Immigrant (1917)   \n",
       "4      9968  Broken Blossoms or The Yellow Man and the Girl...   \n",
       "\n",
       "                        genre  \n",
       "0                 Crime|Drama  \n",
       "1                Comedy|Short  \n",
       "2                Comedy|Short  \n",
       "3  Short|Comedy|Drama|Romance  \n",
       "4               Drama|Romance  "
      ]
     },
     "execution_count": 10,
     "metadata": {},
     "output_type": "execute_result"
    }
   ],
   "source": [
    "movies.head()"
   ]
  },
  {
   "cell_type": "code",
   "execution_count": 11,
   "metadata": {},
   "outputs": [],
   "source": [
    "drama = movies[movies['genre']=='Crime|Drama']"
   ]
  },
  {
   "cell_type": "code",
   "execution_count": 12,
   "metadata": {},
   "outputs": [
    {
     "data": {
      "text/plain": [
       "0     True\n",
       "1    False\n",
       "2    False\n",
       "3    False\n",
       "4    False\n",
       "Name: genre, dtype: bool"
      ]
     },
     "execution_count": 12,
     "metadata": {},
     "output_type": "execute_result"
    }
   ],
   "source": [
    "is_drama = movies['genre'] == 'Crime|Drama'\n",
    "is_drama.head()"
   ]
  },
  {
   "cell_type": "code",
   "execution_count": 13,
   "metadata": {},
   "outputs": [
    {
     "data": {
      "text/plain": [
       "0       2844\n",
       "54     23817\n",
       "208    40522\n",
       "236    42876\n",
       "251    44515\n",
       "Name: movie id, dtype: int64"
      ]
     },
     "execution_count": 13,
     "metadata": {},
     "output_type": "execute_result"
    }
   ],
   "source": [
    "drama_ids = drama['movie id']\n",
    "drama_ids.head()"
   ]
  },
  {
   "cell_type": "code",
   "execution_count": 14,
   "metadata": {},
   "outputs": [
    {
     "data": {
      "text/html": [
       "<div>\n",
       "<style scoped>\n",
       "    .dataframe tbody tr th:only-of-type {\n",
       "        vertical-align: middle;\n",
       "    }\n",
       "\n",
       "    .dataframe tbody tr th {\n",
       "        vertical-align: top;\n",
       "    }\n",
       "\n",
       "    .dataframe thead th {\n",
       "        text-align: right;\n",
       "    }\n",
       "</style>\n",
       "<table border=\"1\" class=\"dataframe\">\n",
       "  <thead>\n",
       "    <tr style=\"text-align: right;\">\n",
       "      <th></th>\n",
       "      <th>user id</th>\n",
       "      <th>item_id</th>\n",
       "      <th>rating</th>\n",
       "      <th>timestamp</th>\n",
       "    </tr>\n",
       "  </thead>\n",
       "  <tbody>\n",
       "    <tr>\n",
       "      <th>128</th>\n",
       "      <td>18</td>\n",
       "      <td>86066</td>\n",
       "      <td>10</td>\n",
       "      <td>1363985505</td>\n",
       "    </tr>\n",
       "    <tr>\n",
       "      <th>150</th>\n",
       "      <td>23</td>\n",
       "      <td>1212450</td>\n",
       "      <td>8</td>\n",
       "      <td>1364166586</td>\n",
       "    </tr>\n",
       "    <tr>\n",
       "      <th>176</th>\n",
       "      <td>26</td>\n",
       "      <td>1817273</td>\n",
       "      <td>8</td>\n",
       "      <td>1367761386</td>\n",
       "    </tr>\n",
       "    <tr>\n",
       "      <th>194</th>\n",
       "      <td>36</td>\n",
       "      <td>68646</td>\n",
       "      <td>9</td>\n",
       "      <td>1364834910</td>\n",
       "    </tr>\n",
       "    <tr>\n",
       "      <th>195</th>\n",
       "      <td>36</td>\n",
       "      <td>71562</td>\n",
       "      <td>10</td>\n",
       "      <td>1365005772</td>\n",
       "    </tr>\n",
       "  </tbody>\n",
       "</table>\n",
       "</div>"
      ],
      "text/plain": [
       "     user id  item_id  rating   timestamp\n",
       "128       18    86066      10  1363985505\n",
       "150       23  1212450       8  1364166586\n",
       "176       26  1817273       8  1367761386\n",
       "194       36    68646       9  1364834910\n",
       "195       36    71562      10  1365005772"
      ]
     },
     "execution_count": 14,
     "metadata": {},
     "output_type": "execute_result"
    }
   ],
   "source": [
    "criterion = ratings['item_id'].map(lambda x: (drama_ids == x).any())\n",
    "drama_ratings = ratings[criterion]\n",
    "drama_ratings.head()"
   ]
  },
  {
   "cell_type": "code",
   "execution_count": 18,
   "metadata": {},
   "outputs": [
    {
     "data": {
      "text/plain": [
       "Text(0,0.5,'Count')"
      ]
     },
     "execution_count": 18,
     "metadata": {},
     "output_type": "execute_result"
    },
    {
     "data": {
      "image/png": "[encoded data removed]",
      "text/plain": [
       "<Figure size 500x350 with 1 Axes>"
      ]
     },
     "metadata": {},
     "output_type": "display_data"
    }
   ],
   "source": [
    "rating_counts = drama_ratings['rating'].value_counts()\n",
    "sorted_counts = rating_counts.sort_index()\n",
    "sorted_counts.plot(kind='bar', color='SteelBlue')\n",
    "plt.title('Movie rating for crime dramas')\n",
    "plt.xlabel('Rating')\n",
    "plt.ylabel('Count')"
   ]
  },
  {
   "cell_type": "code",
   "execution_count": null,
   "metadata": {},
   "outputs": [],
   "source": []
  }
 ],
 "metadata": {
  "kernelspec": {
   "display_name": "Python 3",
   "language": "python",
   "name": "python3"
  },
  "language_info": {
   "codemirror_mode": {
    "name": "ipython",
    "version": 3
   },
   "file_extension": ".py",
   "mimetype": "text/x-python",
   "name": "python",
   "nbconvert_exporter": "python",
   "pygments_lexer": "ipython3",
   "version": "3.6.10"
  }
 },
 "nbformat": 4,
 "nbformat_minor": 4
}
