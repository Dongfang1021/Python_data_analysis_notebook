{
 "cells": [
  {
   "cell_type": "code",
   "execution_count": 3,
   "metadata": {},
   "outputs": [],
   "source": [
    "import pandas as pd\n",
    "import numpy as np\n",
    "import json\n",
    "import pprint\n",
    "import requests\n",
    "from bs4 import BeautifulSoup\n",
    "pd.set_option('display.width', 80)\n",
    "pd.set_option('display.max_columns', 6)"
   ]
  },
  {
   "cell_type": "code",
   "execution_count": 4,
   "metadata": {},
   "outputs": [
    {
     "data": {
      "text/plain": [
       "bs4.element.ResultSet"
      ]
     },
     "execution_count": 4,
     "metadata": {},
     "output_type": "execute_result"
    }
   ],
   "source": [
    "webpage = requests.get(\"http://www.alrb.org/datacleaning/covidcaseoutliers.html\")\n",
    "bs = BeautifulSoup(webpage.text, 'html.parser')\n",
    "theadrows = bs.find('table', {'id':'tblDeaths'}).thead.find_all('th')\n",
    "type(theadrows)"
   ]
  },
  {
   "cell_type": "code",
   "execution_count": 5,
   "metadata": {},
   "outputs": [
    {
     "data": {
      "text/plain": [
       "['rowheadings',\n",
       " 'Cases',\n",
       " 'Deaths',\n",
       " 'Cases per Million',\n",
       " 'Deaths per Million',\n",
       " 'population',\n",
       " 'population_density',\n",
       " 'median_age',\n",
       " 'gdp_per_capita',\n",
       " 'hospital_beds_per_100k']"
      ]
     },
     "execution_count": 5,
     "metadata": {},
     "output_type": "execute_result"
    }
   ],
   "source": [
    "labelcols = [j.get_text() for j in theadrows]\n",
    "labelcols[0] =\"rowheadings\"\n",
    "labelcols"
   ]
  },
  {
   "cell_type": "code",
   "execution_count": 6,
   "metadata": {},
   "outputs": [
    {
     "name": "stdout",
     "output_type": "stream",
     "text": [
      "[['9,394', '653', '214', '15', '43,851,043', '17', '29', '13,914', '1.9'],\n",
      " ['16,642', '668', '1848', '74', '9,006,400', '107', '44', '45,437', '7.4']]\n"
     ]
    }
   ],
   "source": [
    "rows = bs.find('table', {'id':'tblDeaths'}).tbody.find_all('tr')\n",
    "datarows = []\n",
    "labelrows = []\n",
    "for row in rows:\n",
    "    rowlabels = row.find('th').get_text()\n",
    "    cells = row.find_all('td', {'class':'data'})\n",
    "    if (len(rowlabels)>3):\n",
    "        labelrows.append(rowlabels)\n",
    "    if (len(cells)>0):\n",
    "        cellvalues = [j.get_text() for j in cells]\n",
    "        datarows.append(cellvalues)\n",
    "pprint.pprint(datarows[0:2])"
   ]
  },
  {
   "cell_type": "code",
   "execution_count": 7,
   "metadata": {},
   "outputs": [
    {
     "name": "stdout",
     "output_type": "stream",
     "text": [
      "['Algeria', 'Austria']\n"
     ]
    }
   ],
   "source": [
    "pprint.pprint(labelrows[0:2])"
   ]
  },
  {
   "cell_type": "code",
   "execution_count": 8,
   "metadata": {},
   "outputs": [
    {
     "name": "stdout",
     "output_type": "stream",
     "text": [
      "[['Algeria',\n",
      "  '9,394',\n",
      "  '653',\n",
      "  '214',\n",
      "  '15',\n",
      "  '43,851,043',\n",
      "  '17',\n",
      "  '29',\n",
      "  '13,914',\n",
      "  '1.9'],\n",
      " ['Austria',\n",
      "  '16,642',\n",
      "  '668',\n",
      "  '1848',\n",
      "  '74',\n",
      "  '9,006,400',\n",
      "  '107',\n",
      "  '44',\n",
      "  '45,437',\n",
      "  '7.4']]\n"
     ]
    }
   ],
   "source": [
    "for i in range(len(datarows)):\n",
    "    datarows[i].insert(0, labelrows[i])\n",
    "pprint.pprint(datarows[0:2])"
   ]
  },
  {
   "cell_type": "code",
   "execution_count": 9,
   "metadata": {},
   "outputs": [
    {
     "data": {
      "text/plain": [
       "rowheadings               object\n",
       "Cases                     object\n",
       "Deaths                    object\n",
       "Cases per Million         object\n",
       "Deaths per Million        object\n",
       "population                object\n",
       "population_density        object\n",
       "median_age                object\n",
       "gdp_per_capita            object\n",
       "hospital_beds_per_100k    object\n",
       "dtype: object"
      ]
     },
     "execution_count": 9,
     "metadata": {},
     "output_type": "execute_result"
    }
   ],
   "source": [
    "totaldeaths = pd.DataFrame(datarows, columns=labelcols)\n",
    "totaldeaths.iloc[:, 1:5].head()\n",
    "totaldeaths.dtypes"
   ]
  },
  {
   "cell_type": "code",
   "execution_count": 10,
   "metadata": {},
   "outputs": [],
   "source": [
    "totaldeaths.columns = totaldeaths.columns.str.replace(\" \", \"_\").str.lower()"
   ]
  },
  {
   "cell_type": "code",
   "execution_count": 12,
   "metadata": {},
   "outputs": [],
   "source": [
    "for col in totaldeaths.columns[1:-1]:\n",
    "    totaldeaths[col] = totaldeaths[col].str.replace(\"[^0-9]\",\"\").astype('int64')"
   ]
  },
  {
   "cell_type": "code",
   "execution_count": 13,
   "metadata": {},
   "outputs": [
    {
     "data": {
      "text/html": [
       "<div>\n",
       "<style scoped>\n",
       "    .dataframe tbody tr th:only-of-type {\n",
       "        vertical-align: middle;\n",
       "    }\n",
       "\n",
       "    .dataframe tbody tr th {\n",
       "        vertical-align: top;\n",
       "    }\n",
       "\n",
       "    .dataframe thead th {\n",
       "        text-align: right;\n",
       "    }\n",
       "</style>\n",
       "<table border=\"1\" class=\"dataframe\">\n",
       "  <thead>\n",
       "    <tr style=\"text-align: right;\">\n",
       "      <th></th>\n",
       "      <th>rowheadings</th>\n",
       "      <th>cases</th>\n",
       "      <th>deaths</th>\n",
       "      <th>...</th>\n",
       "      <th>median_age</th>\n",
       "      <th>gdp_per_capita</th>\n",
       "      <th>hospital_beds_per_100k</th>\n",
       "    </tr>\n",
       "  </thead>\n",
       "  <tbody>\n",
       "    <tr>\n",
       "      <th>0</th>\n",
       "      <td>Algeria</td>\n",
       "      <td>9394</td>\n",
       "      <td>653</td>\n",
       "      <td>...</td>\n",
       "      <td>29</td>\n",
       "      <td>13914</td>\n",
       "      <td>1.9</td>\n",
       "    </tr>\n",
       "    <tr>\n",
       "      <th>1</th>\n",
       "      <td>Austria</td>\n",
       "      <td>16642</td>\n",
       "      <td>668</td>\n",
       "      <td>...</td>\n",
       "      <td>44</td>\n",
       "      <td>45437</td>\n",
       "      <td>7.4</td>\n",
       "    </tr>\n",
       "    <tr>\n",
       "      <th>2</th>\n",
       "      <td>Bangladesh</td>\n",
       "      <td>47153</td>\n",
       "      <td>650</td>\n",
       "      <td>...</td>\n",
       "      <td>28</td>\n",
       "      <td>3524</td>\n",
       "      <td>0.8</td>\n",
       "    </tr>\n",
       "    <tr>\n",
       "      <th>3</th>\n",
       "      <td>Belgium</td>\n",
       "      <td>58381</td>\n",
       "      <td>9467</td>\n",
       "      <td>...</td>\n",
       "      <td>42</td>\n",
       "      <td>42659</td>\n",
       "      <td>5.6</td>\n",
       "    </tr>\n",
       "    <tr>\n",
       "      <th>4</th>\n",
       "      <td>Brazil</td>\n",
       "      <td>514849</td>\n",
       "      <td>29314</td>\n",
       "      <td>...</td>\n",
       "      <td>34</td>\n",
       "      <td>14103</td>\n",
       "      <td>2.2</td>\n",
       "    </tr>\n",
       "  </tbody>\n",
       "</table>\n",
       "<p>5 rows × 10 columns</p>\n",
       "</div>"
      ],
      "text/plain": [
       "  rowheadings   cases  deaths  ...  median_age  gdp_per_capita  \\\n",
       "0     Algeria    9394     653  ...          29           13914   \n",
       "1     Austria   16642     668  ...          44           45437   \n",
       "2  Bangladesh   47153     650  ...          28            3524   \n",
       "3     Belgium   58381    9467  ...          42           42659   \n",
       "4      Brazil  514849   29314  ...          34           14103   \n",
       "\n",
       "   hospital_beds_per_100k  \n",
       "0                     1.9  \n",
       "1                     7.4  \n",
       "2                     0.8  \n",
       "3                     5.6  \n",
       "4                     2.2  \n",
       "\n",
       "[5 rows x 10 columns]"
      ]
     },
     "execution_count": 13,
     "metadata": {},
     "output_type": "execute_result"
    }
   ],
   "source": [
    "totaldeaths['hospital_beds_per_100k'] = totaldeaths['hospital_beds_per_100k'].astype('float')\n",
    "totaldeaths.head()"
   ]
  },
  {
   "cell_type": "code",
   "execution_count": 14,
   "metadata": {},
   "outputs": [
    {
     "data": {
      "text/plain": [
       "rowheadings                object\n",
       "cases                       int64\n",
       "deaths                      int64\n",
       "cases_per_million           int64\n",
       "deaths_per_million          int64\n",
       "population                  int64\n",
       "population_density          int64\n",
       "median_age                  int64\n",
       "gdp_per_capita              int64\n",
       "hospital_beds_per_100k    float64\n",
       "dtype: object"
      ]
     },
     "execution_count": 14,
     "metadata": {},
     "output_type": "execute_result"
    }
   ],
   "source": [
    "totaldeaths.dtypes"
   ]
  },
  {
   "cell_type": "code",
   "execution_count": null,
   "metadata": {},
   "outputs": [],
   "source": []
  }
 ],
 "metadata": {
  "kernelspec": {
   "display_name": "Python 3",
   "language": "python",
   "name": "python3"
  },
  "language_info": {
   "codemirror_mode": {
    "name": "ipython",
    "version": 3
   },
   "file_extension": ".py",
   "mimetype": "text/x-python",
   "name": "python",
   "nbconvert_exporter": "python",
   "pygments_lexer": "ipython3",
   "version": "3.6.10"
  }
 },
 "nbformat": 4,
 "nbformat_minor": 4
}
